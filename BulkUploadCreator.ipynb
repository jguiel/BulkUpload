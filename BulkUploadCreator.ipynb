{
 "cells": [
  {
   "cell_type": "code",
   "execution_count": 3,
   "id": "a4ef064b",
   "metadata": {},
   "outputs": [
    {
     "name": "stdout",
     "output_type": "stream",
     "text": [
      "ATF:200\n",
      "SRP 1:2445\n"
     ]
    }
   ],
   "source": [
    "import pandas as pd\n",
    "bulkupload = pd.read_csv('BulkUploadTemplate.txt', delimiter='\\t')\n",
    "atf = 'ATF' + input('ATF:')\n",
    "srp1 = int(input('SRP 1:'))\n",
    "srp2 = srp1 + 1\n",
    "srp3 = srp1 + 2\n",
    "srp4 = srp1 + 3\n",
    "\n",
    "bulkupload['SOURCE CONTAINER'].iloc[:96] = 'SRP' + str(srp1)\n",
    "bulkupload['SOURCE CONTAINER'].iloc[96:192] = 'SRP' + str(srp2)\n",
    "bulkupload['SOURCE CONTAINER'].iloc[192:288] = 'SRP' + str(srp3)\n",
    "bulkupload['SOURCE CONTAINER'].iloc[288:] = 'SRP' + str(srp4)\n",
    "bulkupload['BARCODE'] = atf\n",
    "\n",
    "bulkupload.to_csv(atf, sep='\\t', index=False)"
   ]
  }
 ],
 "metadata": {
  "kernelspec": {
   "display_name": "Python 3",
   "language": "python",
   "name": "python3"
  },
  "language_info": {
   "codemirror_mode": {
    "name": "ipython",
    "version": 3
   },
   "file_extension": ".py",
   "mimetype": "text/x-python",
   "name": "python",
   "nbconvert_exporter": "python",
   "pygments_lexer": "ipython3",
   "version": "3.8.8"
  }
 },
 "nbformat": 4,
 "nbformat_minor": 5
}
