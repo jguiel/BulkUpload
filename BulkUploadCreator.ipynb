{
 "cells": [
  {
   "cell_type": "code",
   "execution_count": 10,
   "id": "b15f789a",
   "metadata": {},
   "outputs": [
    {
     "name": "stdout",
     "output_type": "stream",
     "text": [
      "ATF \\(Number only\\):200\n",
      "First SRP \\(Number only\\):1\n",
      "Second SRP \\(Number only\\):2\n",
      "Third SRP \\(Number only\\):3\n",
      "Fourth SRP \\(Number only\\):4\n"
     ]
    },
    {
     "name": "stderr",
     "output_type": "stream",
     "text": [
      "C:\\Users\\jfgui\\anaconda3\\lib\\site-packages\\pandas\\core\\indexing.py:1637: SettingWithCopyWarning: \n",
      "A value is trying to be set on a copy of a slice from a DataFrame\n",
      "\n",
      "See the caveats in the documentation: https://pandas.pydata.org/pandas-docs/stable/user_guide/indexing.html#returning-a-view-versus-a-copy\n",
      "  self._setitem_single_block(indexer, value, name)\n"
     ]
    }
   ],
   "source": [
    "import pandas as pd\n",
    "bulkupload = pd.read_csv('BulkUploadTemplate.txt', delimiter='\\t')\n",
    "atf = 'ATF' + input('ATF \\(Number only\\):')\n",
    "srp1 = 'SRP' + input('First SRP \\(Number only\\):')\n",
    "srp2 = 'SRP' + input('Second SRP \\(Number only\\):')\n",
    "srp3 = 'SRP' + input('Third SRP \\(Number only\\):')\n",
    "srp4 = 'SRP' + input('Fourth SRP \\(Number only\\):')\n",
    "\n",
    "bulkupload['SOURCE CONTAINER'].iloc[:96] = srp1\n",
    "bulkupload['SOURCE CONTAINER'].iloc[96:192] = srp2\n",
    "bulkupload['SOURCE CONTAINER'].iloc[192:288] = srp3\n",
    "bulkupload['SOURCE CONTAINER'].iloc[288:] = srp4\n",
    "bulkupload['BARCODE'] = atf\n",
    "\n",
    "bulkupload.to_csv(atf, sep='\\t', index=False)"
   ]
  }
 ],
 "metadata": {
  "kernelspec": {
   "display_name": "Python 3",
   "language": "python",
   "name": "python3"
  },
  "language_info": {
   "codemirror_mode": {
    "name": "ipython",
    "version": 3
   },
   "file_extension": ".py",
   "mimetype": "text/x-python",
   "name": "python",
   "nbconvert_exporter": "python",
   "pygments_lexer": "ipython3",
   "version": "3.8.8"
  }
 },
 "nbformat": 4,
 "nbformat_minor": 5
}
